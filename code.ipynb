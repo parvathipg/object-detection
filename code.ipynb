git clone https://github.com/open-mmlab/mmdetection.git
cd mmdetection
